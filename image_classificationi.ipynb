{
  "nbformat": 4,
  "nbformat_minor": 0,
  "metadata": {
    "colab": {
      "name": "image_classification.ipynb",
      "provenance": [],
      "collapsed_sections": []
    },
    "kernelspec": {
      "name": "python3",
      "display_name": "Python 3"
    },
    "language_info": {
      "name": "python"
    }
  },
  "cells": [
    {
      "cell_type": "code",
      "execution_count": 3,
      "metadata": {
        "colab": {
          "base_uri": "https://localhost:8080/"
        },
        "id": "xwIRj-gRnNp1",
        "outputId": "79a9832e-df0a-412d-916e-e590a1294883"
      },
      "outputs": [
        {
          "output_type": "stream",
          "name": "stdout",
          "text": [
            "['dinning_room', 'bed_room', 'living_room', '.ipynb_checkpoints']\n",
            "Types of rooms found:  4\n"
          ]
        }
      ],
      "source": [
        "import numpy as np #imported required module\n",
        "import pandas as pd #imported required module\n",
        "import matplotlib.pyplot as plt #imported required module\n",
        "import os #imported required module\n",
        "\n",
        "\n",
        "room_types = os.listdir('dataset') #give us directory all the particular folder\n",
        "print (room_types)  \n",
        "\n",
        "print(\"Types of rooms found: \", len(room_types))"
      ]
    },
    {
      "cell_type": "code",
      "source": [
        "rooms = []\n",
        "\n",
        "for item in room_types:\n",
        " # Get all the file names\n",
        " all_rooms = os.listdir('dataset' + '/' +item)\n",
        " #print(all_shoes)\n",
        "\n",
        " # Add them to the list\n",
        " for room in all_rooms:\n",
        "    rooms.append((item, str('dataset' + '/' +item) + '/' + room))\n",
        "    print(rooms[:1])"
      ],
      "metadata": {
        "colab": {
          "base_uri": "https://localhost:8080/"
        },
        "id": "VYJzxLy2ZAQW",
        "outputId": "6e17c2c6-ac76-4af6-9546-0349a965669d"
      },
      "execution_count": 4,
      "outputs": [
        {
          "output_type": "stream",
          "name": "stdout",
          "text": [
            "[('dinning_room', 'dataset/dinning_room/download.jpg')]\n",
            "[('dinning_room', 'dataset/dinning_room/download.jpg')]\n",
            "[('dinning_room', 'dataset/dinning_room/download.jpg')]\n",
            "[('dinning_room', 'dataset/dinning_room/download.jpg')]\n",
            "[('dinning_room', 'dataset/dinning_room/download.jpg')]\n",
            "[('dinning_room', 'dataset/dinning_room/download.jpg')]\n",
            "[('dinning_room', 'dataset/dinning_room/download.jpg')]\n",
            "[('dinning_room', 'dataset/dinning_room/download.jpg')]\n",
            "[('dinning_room', 'dataset/dinning_room/download.jpg')]\n",
            "[('dinning_room', 'dataset/dinning_room/download.jpg')]\n",
            "[('dinning_room', 'dataset/dinning_room/download.jpg')]\n",
            "[('dinning_room', 'dataset/dinning_room/download.jpg')]\n",
            "[('dinning_room', 'dataset/dinning_room/download.jpg')]\n",
            "[('dinning_room', 'dataset/dinning_room/download.jpg')]\n",
            "[('dinning_room', 'dataset/dinning_room/download.jpg')]\n"
          ]
        }
      ]
    },
    {
      "cell_type": "code",
      "source": [
        "# Build a dataframe        \n",
        "rooms_df = pd.DataFrame(data=rooms, columns=['room type', 'image'])\n",
        "print(rooms_df.head())\n",
        "print(rooms_df.tail())"
      ],
      "metadata": {
        "colab": {
          "base_uri": "https://localhost:8080/"
        },
        "id": "tNA6DA_QZHwg",
        "outputId": "69678884-4c6b-4028-fbef-a5d2398d12fc"
      },
      "execution_count": 5,
      "outputs": [
        {
          "output_type": "stream",
          "name": "stdout",
          "text": [
            "      room type                                  image\n",
            "0  dinning_room      dataset/dinning_room/download.jpg\n",
            "1  dinning_room  dataset/dinning_room/download (1).jpg\n",
            "2  dinning_room  dataset/dinning_room/download (3).jpg\n",
            "3  dinning_room  dataset/dinning_room/download (2).jpg\n",
            "4  dinning_room  dataset/dinning_room/download (5).jpg\n",
            "      room type                                 image\n",
            "10  living_room      dataset/living_room/download.jpg\n",
            "11  living_room  dataset/living_room/download (1).jpg\n",
            "12  living_room  dataset/living_room/download (3).jpg\n",
            "13  living_room  dataset/living_room/download (2).jpg\n",
            "14  living_room  dataset/living_room/download (4).jpg\n"
          ]
        }
      ]
    },
    {
      "cell_type": "code",
      "source": [
        "# Let's check how many samples for each category are present\n",
        "print(\"Total number of rooms in the dataset: \", len(rooms_df))"
      ],
      "metadata": {
        "colab": {
          "base_uri": "https://localhost:8080/"
        },
        "id": "yxPsZ1GvZVrn",
        "outputId": "a06d49e1-d3fa-408d-f1a9-b7a2e3d76f2e"
      },
      "execution_count": 6,
      "outputs": [
        {
          "output_type": "stream",
          "name": "stdout",
          "text": [
            "Total number of rooms in the dataset:  15\n"
          ]
        }
      ]
    },
    {
      "cell_type": "code",
      "source": [
        "room_count = rooms_df['room type'].value_counts()\n",
        "\n",
        "print(\"rooms in each category: \")\n",
        "print(room_count)"
      ],
      "metadata": {
        "colab": {
          "base_uri": "https://localhost:8080/"
        },
        "id": "zVgvpo6JZXp-",
        "outputId": "8d065c6f-0acd-42ec-eb10-d06b85f90d8b"
      },
      "execution_count": 7,
      "outputs": [
        {
          "output_type": "stream",
          "name": "stdout",
          "text": [
            "rooms in each category: \n",
            "dinning_room    5\n",
            "bed_room        5\n",
            "living_room     5\n",
            "Name: room type, dtype: int64\n"
          ]
        }
      ]
    },
    {
      "cell_type": "code",
      "source": [
        "import cv2\n",
        "path = 'dataset/'\n",
        "\n",
        "\n",
        "#im_size = 100\n",
        "im_size = 300\n",
        "\n",
        "images = []\n",
        "labels = []\n",
        "\n",
        "for i in room_types:\n",
        "    data_path = path + str(i) \n",
        "    filenames = [i for i in os.listdir(data_path) ]\n",
        "   \n",
        "    for f in filenames:\n",
        "        img = cv2.imread(data_path + '/' + f)  # reading that image as array\n",
        "        #print(img)  # will get the image as an array\n",
        "        img = cv2.resize(img, (im_size, im_size))\n",
        "        images.append(img)\n",
        "        labels.append(i)"
      ],
      "metadata": {
        "id": "r0v5FlsQZd95"
      },
      "execution_count": 8,
      "outputs": []
    },
    {
      "cell_type": "code",
      "source": [
        "# Transform the image array to a numpy type\n",
        "\n",
        "images = np.array(images)\n",
        "\n",
        "images.shape"
      ],
      "metadata": {
        "colab": {
          "base_uri": "https://localhost:8080/"
        },
        "id": "olxyh6YmZhut",
        "outputId": "7a16c7a7-f1ee-48be-89ad-fc6d2537e473"
      },
      "execution_count": 9,
      "outputs": [
        {
          "output_type": "execute_result",
          "data": {
            "text/plain": [
              "(15, 300, 300, 3)"
            ]
          },
          "metadata": {},
          "execution_count": 9
        }
      ]
    },
    {
      "cell_type": "code",
      "source": [
        "images = images.astype('float32') / 255.0"
      ],
      "metadata": {
        "id": "E20r3IwbZnCA"
      },
      "execution_count": 10,
      "outputs": []
    },
    {
      "cell_type": "code",
      "source": [
        "images.shape"
      ],
      "metadata": {
        "colab": {
          "base_uri": "https://localhost:8080/"
        },
        "id": "jjtcRB1OZp7s",
        "outputId": "4d880120-febf-46da-eaa3-992be6e95457"
      },
      "execution_count": 11,
      "outputs": [
        {
          "output_type": "execute_result",
          "data": {
            "text/plain": [
              "(15, 300, 300, 3)"
            ]
          },
          "metadata": {},
          "execution_count": 11
        }
      ]
    },
    {
      "cell_type": "code",
      "source": [
        "from sklearn.preprocessing import LabelEncoder , OneHotEncoder\n",
        "\n",
        "\n",
        "y=rooms_df['room type'].values\n",
        "print(y[:5])"
      ],
      "metadata": {
        "colab": {
          "base_uri": "https://localhost:8080/"
        },
        "id": "Z7nwNUaiZtvG",
        "outputId": "d1abba6d-99fb-4f3d-f5b4-830b1d7fa6ad"
      },
      "execution_count": 12,
      "outputs": [
        {
          "output_type": "stream",
          "name": "stdout",
          "text": [
            "['dinning_room' 'dinning_room' 'dinning_room' 'dinning_room'\n",
            " 'dinning_room']\n"
          ]
        }
      ]
    },
    {
      "cell_type": "code",
      "source": [
        "# for y\n",
        "y_labelencoder = LabelEncoder ()\n",
        "y = y_labelencoder.fit_transform (y)\n",
        "print (y)"
      ],
      "metadata": {
        "colab": {
          "base_uri": "https://localhost:8080/"
        },
        "id": "W3Wo2r7vZxxe",
        "outputId": "360368fd-f4db-47c8-8ee2-12d47672d697"
      },
      "execution_count": 13,
      "outputs": [
        {
          "output_type": "stream",
          "name": "stdout",
          "text": [
            "[1 1 1 1 1 0 0 0 0 0 2 2 2 2 2]\n"
          ]
        }
      ]
    },
    {
      "cell_type": "code",
      "source": [
        "from sklearn.utils import shuffle\n",
        "from sklearn.model_selection import train_test_split\n",
        "\n",
        "\n",
        "images, y = shuffle(images, y, random_state=1)\n",
        "\n",
        "train_x, test_x, train_y, test_y = train_test_split(images, y, test_size=0.05, random_state=415)\n",
        "\n",
        "#inpect the shape of the training and testing.\n",
        "print(train_x.shape)\n",
        "print(train_y.shape)\n",
        "print(test_x.shape)\n",
        "print(test_y.shape)"
      ],
      "metadata": {
        "colab": {
          "base_uri": "https://localhost:8080/"
        },
        "id": "MPkz9gGIZ1uM",
        "outputId": "7358d830-b835-4908-aaaf-625fd71f24fa"
      },
      "execution_count": 14,
      "outputs": [
        {
          "output_type": "stream",
          "name": "stdout",
          "text": [
            "(14, 300, 300, 3)\n",
            "(14,)\n",
            "(1, 300, 300, 3)\n",
            "(1,)\n"
          ]
        }
      ]
    },
    {
      "cell_type": "code",
      "source": [
        "# Develop a sequential model using tensorflow keras\n",
        "import keras\n",
        "import tensorflow as tf\n",
        "model = keras.Sequential([\n",
        "    keras.layers.Flatten(input_shape=(300,300,3)),\n",
        "    keras.layers.Dense(256, activation=tf.nn.tanh),\n",
        "   \n",
        "    keras.layers.Dense(3, activation=tf.nn.softmax)\n",
        "])"
      ],
      "metadata": {
        "id": "LhzSh_lLZ758"
      },
      "execution_count": 15,
      "outputs": []
    },
    {
      "cell_type": "code",
      "source": [
        "model.summary()"
      ],
      "metadata": {
        "colab": {
          "base_uri": "https://localhost:8080/"
        },
        "id": "6U6cKNsrucwp",
        "outputId": "bb7daaae-a70b-4be1-ddd9-f1f75eb15d9a"
      },
      "execution_count": 16,
      "outputs": [
        {
          "output_type": "stream",
          "name": "stdout",
          "text": [
            "Model: \"sequential\"\n",
            "_________________________________________________________________\n",
            " Layer (type)                Output Shape              Param #   \n",
            "=================================================================\n",
            " flatten (Flatten)           (None, 270000)            0         \n",
            "                                                                 \n",
            " dense (Dense)               (None, 256)               69120256  \n",
            "                                                                 \n",
            " dense_1 (Dense)             (None, 3)                 771       \n",
            "                                                                 \n",
            "=================================================================\n",
            "Total params: 69,121,027\n",
            "Trainable params: 69,121,027\n",
            "Non-trainable params: 0\n",
            "_________________________________________________________________\n"
          ]
        }
      ]
    },
    {
      "cell_type": "code",
      "source": [
        "# Compute the model parameters\n",
        "\n",
        "model.compile(optimizer=tf.compat.v1.train.AdamOptimizer(), loss='sparse_categorical_crossentropy', metrics=['accuracy'])\n"
      ],
      "metadata": {
        "id": "Rnrs3ZL-aIgQ"
      },
      "execution_count": 22,
      "outputs": []
    },
    {
      "cell_type": "code",
      "source": [
        "# Train the model  with 5 epochs \n",
        "\n",
        "model.fit(train_x,train_y, epochs=5)"
      ],
      "metadata": {
        "colab": {
          "base_uri": "https://localhost:8080/"
        },
        "id": "1msMiG4CaTW1",
        "outputId": "30dae997-8cba-4138-afb1-488a522dcb31"
      },
      "execution_count": 23,
      "outputs": [
        {
          "output_type": "stream",
          "name": "stdout",
          "text": [
            "Epoch 1/5\n",
            "1/1 [==============================] - 1s 1s/step - loss: 1.0750 - accuracy: 0.2857\n",
            "Epoch 2/5\n",
            "1/1 [==============================] - 0s 395ms/step - loss: 10.4903 - accuracy: 0.3571\n",
            "Epoch 3/5\n",
            "1/1 [==============================] - 0s 385ms/step - loss: 9.8345 - accuracy: 0.3571\n",
            "Epoch 4/5\n",
            "1/1 [==============================] - 0s 400ms/step - loss: 9.4874 - accuracy: 0.3571\n",
            "Epoch 5/5\n",
            "1/1 [==============================] - 0s 401ms/step - loss: 9.1791 - accuracy: 0.3571\n"
          ]
        },
        {
          "output_type": "execute_result",
          "data": {
            "text/plain": [
              "<keras.callbacks.History at 0x7f84c369ec10>"
            ]
          },
          "metadata": {},
          "execution_count": 23
        }
      ]
    },
    {
      "cell_type": "code",
      "source": [
        "y_pred = model.predict_classes(test_x)\n",
        "y_pred"
      ],
      "metadata": {
        "id": "68cc7s2SfwWC"
      },
      "execution_count": null,
      "outputs": []
    },
    {
      "cell_type": "code",
      "source": [
        "from keras.preprocessing.image import load_img\n",
        "\n",
        "import numpy as np\n",
        "\n",
        "image = load_img('t2.jpg', target_size=(300, 300))   # predicting correct \n",
        "imag"
      ],
      "metadata": {
        "id": "tXFMTQmAg1z-"
      },
      "execution_count": 61,
      "outputs": []
    },
    {
      "cell_type": "code",
      "source": [
        "# convert the image pixels to a numpy array\n",
        "image = np.array(image)\n",
        "image.shape\n",
        "\n",
        "# reshape data for the model\n",
        "image = image.reshape((1, image.shape[0], image.shape[1], image.shape[2]))"
      ],
      "metadata": {
        "id": "rZb5ZYFsj3-w"
      },
      "execution_count": null,
      "outputs": []
    },
    {
      "cell_type": "code",
      "source": [
        "yhat = model.predict(image)\n",
        "yhat"
      ],
      "metadata": {
        "id": "gZl8s9ELm1wg"
      },
      "execution_count": null,
      "outputs": []
    }
  ]
}